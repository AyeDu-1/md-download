{
 "cells": [
  {
   "cell_type": "code",
   "execution_count": 85,
   "metadata": {},
   "outputs": [],
   "source": [
    "import requests\n",
    "import numpy as np\n",
    "import math\n",
    "import os\n",
    "import shutil"
   ]
  },
  {
   "cell_type": "code",
   "execution_count": 86,
   "metadata": {},
   "outputs": [
    {
     "name": "stdout",
     "output_type": "stream",
     "text": [
      "[0]: {'en': 'Karakai Jouzu no Takagi-san'}\n",
      "[1]: {'en': 'Karakai Jouzu no (Moto) Takagi-san'}\n",
      "[2]: {'en': 'Family Complete +'}\n",
      "[3]: {'ja': 'Karakai Jouzu no Takagi-san Colored Edition'}\n",
      "[4]: {'en': 'Karakai Jouzu no Takagi-san - Pokemon Trainer Takagi-san (Doujinshi)'}\n",
      "[5]: {'en': 'Karakai Jouzu no Takagi-san - Karakai Jouzu no Takagi-san Fan Comic (Doujinshi)'}\n",
      "[6]: {'en': 'Kirakira PreCure a la Mode! - Teasing Master Yukari-san'}\n"
     ]
    }
   ],
   "source": [
    "base_url = \"https://api.mangadex.org\"\n",
    "title = \"Karakai Jouzu no Takagi-san\"\n",
    "\n",
    "r = requests.get(\n",
    "    f\"{base_url}/manga\",\n",
    "    params={\"title\": title}\n",
    ")\n",
    "\n",
    "for i in range(len(r.json()[\"data\"])):\n",
    "    print(f\"[{i}]: {r.json()['data'][i]['attributes']['title']}\")\n"
   ]
  },
  {
   "cell_type": "code",
   "execution_count": 87,
   "metadata": {},
   "outputs": [
    {
     "name": "stdout",
     "output_type": "stream",
     "text": [
      "6e445564-d9a8-4862-bff1-f4d6be6dba2c\n"
     ]
    }
   ],
   "source": [
    "titleid = r.json()[\"data\"][0][\"id\"]\n",
    "print(titleid)"
   ]
  },
  {
   "cell_type": "code",
   "execution_count": 95,
   "metadata": {},
   "outputs": [],
   "source": [
    "total = 0\n",
    "i = 0\n",
    "lschap = [] \n",
    "while (i == 0 or i * 100 <= total):\n",
    "    r = requests.get(\n",
    "        f\"{base_url}/manga/{titleid}/feed\",\n",
    "        params={\"offset\":i * 100}\n",
    "    )\n",
    "\n",
    "    r_json = r.json()\n",
    "    for c in r_json[\"data\"]:\n",
    "        if (c[\"attributes\"][\"translatedLanguage\"] == \"en\"):\n",
    "            lschap.append(c)\n",
    "\n",
    "    i += 1\n",
    "    total = r_json[\"total\"]\n",
    "\n",
    "sc = sorted(lschap, key=lambda d: float(d[\"attributes\"][\"chapter\"]))\n",
    "\n",
    "scid = []\n",
    "for i in sc:\n",
    "    scid.append(i[\"id\"])"
   ]
  },
  {
   "cell_type": "code",
   "execution_count": 97,
   "metadata": {},
   "outputs": [
    {
     "name": "stdout",
     "output_type": "stream",
     "text": [
      "216\n"
     ]
    }
   ],
   "source": [
    "print(len(sc))"
   ]
  },
  {
   "cell_type": "code",
   "execution_count": 39,
   "metadata": {},
   "outputs": [],
   "source": [
    "# bulk = np.arange(0, 5)\n",
    "bulk = [0]\n",
    "prev = -1\n",
    "chapnums = []\n",
    "for chap in bulk:\n",
    "    chapnum = sc[chap][\"attributes\"][\"chapter\"]\n",
    "    if (prev == chapnum):\n",
    "        continue\n",
    "    chapnums.append(chapnum)\n",
    "\n",
    "    r = requests.get(\n",
    "        f\"{base_url}/at-home/server/{scid[chap]}\",\n",
    "    )\n",
    "\n",
    "    r_json = r.json()\n",
    "\n",
    "    url = []\n",
    "    pagesid = r_json[\"chapter\"][\"data\"]\n",
    "    base = r_json[\"baseUrl\"]\n",
    "    hash = r_json[\"chapter\"][\"hash\"]\n",
    "\n",
    "    if (not \"mangadex.org\" in base):\n",
    "        print(\"uh oh\")\n",
    "\n",
    "    for id in pagesid:\n",
    "        url.append(f\"{base}/data/{hash}/{id}\")\n",
    "\n",
    "\n",
    "    for i in range(len(url)):\n",
    "        page = requests.get(url[i]).content\n",
    "        with open(f'{chapnum}-{i+1}.jpg', 'wb') as handler:\n",
    "            handler.write(page)\n",
    "    prev = chapnum"
   ]
  },
  {
   "cell_type": "code",
   "execution_count": 96,
   "metadata": {},
   "outputs": [],
   "source": [
    "for i in chapnums:\n",
    "    os.makedirs(f\"./{title}/chapter {i}\")\n",
    "\n",
    "ls = os.listdir()\n",
    "ls.sort()\n",
    "\n",
    "jpg = []\n",
    "ch = []\n",
    "prev = chapnums[0]\n",
    "for file in ls:\n",
    "    ext = file.split('.')[-1]\n",
    "    if (ext != \"jpg\"):\n",
    "        continue\n",
    "    curr = file.split(\"-\")[0]\n",
    "    if (curr != prev):\n",
    "        jpg.append(ch)\n",
    "        ch = []\n",
    "    ch.append(file[0:-4])\n",
    "    prev = curr\n",
    "\n",
    "jpg.append(ch)\n",
    "\n",
    "for i in range(len(jpg)):\n",
    "    currchap = jpg[i]\n",
    "    simg = sorted(currchap, key=lambda d: int(d.split(\"-\")[-1]))\n",
    "    jpg[i] = simg\n",
    "\n",
    "for i in jpg:\n",
    "    for j in i:\n",
    "        file = f\"./{j}.jpg\"\n",
    "        c = j.split(\"-\")[0]\n",
    "        shutil.move(file, f\"./{title}/chapter {c}\")"
   ]
  },
  {
   "cell_type": "code",
   "execution_count": 33,
   "metadata": {},
   "outputs": [
    {
     "name": "stdout",
     "output_type": "stream",
     "text": [
      "185\n"
     ]
    }
   ],
   "source": [
    "print(chap)"
   ]
  }
 ],
 "metadata": {
  "kernelspec": {
   "display_name": "Python 3",
   "language": "python",
   "name": "python3"
  },
  "language_info": {
   "codemirror_mode": {
    "name": "ipython",
    "version": 3
   },
   "file_extension": ".py",
   "mimetype": "text/x-python",
   "name": "python",
   "nbconvert_exporter": "python",
   "pygments_lexer": "ipython3",
   "version": "3.11.4"
  },
  "orig_nbformat": 4
 },
 "nbformat": 4,
 "nbformat_minor": 2
}
